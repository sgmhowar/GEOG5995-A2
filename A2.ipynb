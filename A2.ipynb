{
 "cells": [
  {
   "cell_type": "markdown",
   "id": "d7021956",
   "metadata": {},
   "source": [
    "# Assignment 2 - Bacterial Bomb"
   ]
  },
  {
   "cell_type": "code",
   "execution_count": 1,
   "id": "82d0088c",
   "metadata": {},
   "outputs": [],
   "source": [
    "# Packages\n",
    "\n",
    "%matplotlib inline\n",
    "import random # used to randomise wind directions and settling rates\n",
    "import time # used to measure model runtime\n",
    "import csv # used to format loaded text files as csvs\n",
    "import matplotlib.pyplot as plt # used to plot density map\n",
    "import numpy as np # used to save results to text file\n",
    "from ipywidgets import interact # used for scroll bars\n",
    "#import pandas as pd # used for table?\n",
    "#random.seed(100) # Used to maintain consistency for model testing - not needed for gneral use"
   ]
  },
  {
   "cell_type": "code",
   "execution_count": 16,
   "id": "4f1269f6",
   "metadata": {},
   "outputs": [
    {
     "data": {
      "application/vnd.jupyter.widget-view+json": {
       "model_id": "deeccf804fab48a5b5bfe61d9f57bad6",
       "version_major": 2,
       "version_minor": 0
      },
      "text/plain": [
       "interactive(children=(IntSlider(value=5000, description='colony_size', max=10000), Output()), _dom_classes=('w…"
      ]
     },
     "metadata": {},
     "output_type": "display_data"
    },
    {
     "data": {
      "application/vnd.jupyter.widget-view+json": {
       "model_id": "f9d44071f40d4efab7cef1599f667dd9",
       "version_major": 2,
       "version_minor": 0
      },
      "text/plain": [
       "interactive(children=(IntSlider(value=75, description='starting_height', min=50), Output()), _dom_classes=('wi…"
      ]
     },
     "metadata": {},
     "output_type": "display_data"
    }
   ],
   "source": [
    "# Variables\n",
    "\n",
    "#The model begins with the colony being released at a set height.\n",
    "#the colony size and intial elevation are listed here:\n",
    "Colony_Size = 5000 # Total number of Bacteria Released by Bomb\n",
    "startheight = 75 # Elevation Bacteria are intially released at\n",
    "\n",
    "#the below code adds slider bars allowing the user to easily alter the colony size and starting elevation\n",
    "@interact(colony_size=(0,10000))\n",
    "def set_cs(colony_size):\n",
    "    Colony_Size = colony_size\n",
    "@interact(elevation=(50,100))\n",
    "def set_sh(elevation):\n",
    "    startheight = elevation    \n",
    "\n",
    "# Each second the wind carries each bacterium in one of 4 directions.\n",
    "# The liklihood of moving in each compass direction are dictated below:\n",
    "NorthW = 10 # percentage likelihood of wind carrying a bacterium north\n",
    "EastW = 75 # percentage likelihood of wind carrying a bacterium east\n",
    "SouthW = 10 # percentage likelihood of wind carrying a bacterium south\n",
    "WestW = 5 # percentage likelihood of wind carrying a bacterium west\n",
    "StrengthW = 1 # distance wind carries bacteria each second\n",
    "\n",
    "# Any exposed bacteria (those above or at the start height) may be carried upwards by turbulence.\n",
    "# The likelihood of this is dictated by the following variables:\n",
    "Rise = 20 # percentage likelihood of wind turbulence lifting an exposed bacterium 1 unit\n",
    "Fall = 70 # percentage likelihood of exposed bacterium dropping 1 unit\n",
    "# The excess 10% is covered by cases where the bacteria neither rises or falls\n",
    "\n",
    "# The following variables are used at output to provide insight into the model outcome.\n",
    "timer = 0 # counts how many 'seconds' would have passed before model completion\n",
    "lost = 0 # counts how many bacteria leave the model area and disperse before settling\n",
    "settled = 0 # counts how many bacteria from the original colony successfully settle in the town area\n",
    "#note that by the model's completion 'lost' and 'settled' should sum to 'Colony_Size'\n",
    "\n",
    "# The following two variables store the ground zero coordinates.\n",
    "# The exact coordinates can only be identified once the file containing them is loaded in.\n",
    "sx = None # stores ground zero x coordinate\n",
    "sy = None # stores ground zero y coordinate\n",
    "        \n",
    "\n",
    "#Finally several empty lists are created to be later filled\n",
    "bacteria = [] # This list will store the bacteria agent data\n",
    "GZ = [] # This list will be used to load the file identifying the ground zero location\n",
    "DensityMap = [] # This list will be used to track the locations of settled bacteria"
   ]
  },
  {
   "cell_type": "code",
   "execution_count": 3,
   "id": "7fc8e07a",
   "metadata": {},
   "outputs": [],
   "source": [
    "# Classes\n",
    "\n",
    "class Bacterium: # Class to establish characteristics of model agents\n",
    "    def __init__(self, height, x, y, dm):\n",
    "        self.height = height # used to track elevation of bacterium\n",
    "        self.x = x # used to track x coordinate of bacterium\n",
    "        self.y = y # used to track y coordinate of bacterium\n",
    "        self.dm = dm # links bacterium to density map to allow for interaction\n",
    "        self.complete = 0 # used to track whether bacterium is settled/lost and can be removed\n",
    "\n",
    "class net: # Class used for identifying ground zero\n",
    "    def __init__(self, x, y, location):\n",
    "        self.x = x # stores x coordinate of value in loaded file\n",
    "        self.y = y # stores y coordinates of value in loaded file\n",
    "        self.location = location # stores value from loaded file found at above coordinates   "
   ]
  },
  {
   "cell_type": "code",
   "execution_count": 4,
   "id": "d0f4d4c9",
   "metadata": {},
   "outputs": [],
   "source": [
    "# Load Start Conditions from File\n",
    "\n",
    "# Here a fuction for loading text files into arrays is defined:\n",
    "def loadup(env,data):\n",
    "    env.clear() # Empty Environment (blank slate)\n",
    "    txt = open(data, newline='') # Loads text file into model\n",
    "    file = csv.reader(txt, quoting=csv.QUOTE_NONNUMERIC) # Read text file as a CSV file\n",
    "    for rows in file: # For each row in the CSV file:\n",
    "        values = []   #Create a list to store this rows scores\n",
    "        env.append(values) #add this row to main environment list\n",
    "        for pv in rows: # for each pixel value:\n",
    "            values.append(pv) #Add pixel value to row\n",
    "    txt.close()   \n",
    "    \n",
    "# Load Ground Zero Data\n",
    "x = \"wind\" #Loads data from provided file storing the ground zero coordinates\n",
    "loadup(GZ,x) #fills empty 'GZ' list with data from the \"wind\" file\n",
    "# Load Empty Text File\n",
    "base = \"Blank.txt\" #Loads a blank 300x300 text file\n",
    "loadup(DensityMap, base) #fills empty 'DensityMap' list with blank values in 300x300 extent"
   ]
  },
  {
   "cell_type": "code",
   "execution_count": 5,
   "id": "b9f6091f",
   "metadata": {},
   "outputs": [],
   "source": [
    "# Finding coordinates for ground zero\n",
    "\n",
    "sp = 255 # From the assignment it is known that the ground zero coordinates are marked by the value '255'\n",
    "scope = [] # create empty list for scanning through ground zero data\n",
    "for x in range(300): # for every x coordinate:\n",
    "    for y in range(300): # at every y coordinate:\n",
    "        scope.append(net(x,y,GZ)) # store value from ground zero file at said coordinates\n",
    "\n",
    "def impact(self, sp): # create function for checking if coordinates are ground zero\n",
    "    global sx\n",
    "    global sy \n",
    "    if self.location[self.x][self.y] == sp: # if value at coordinates is identified marker:\n",
    "        sx = self.x # starting x coordinate is set\n",
    "        sy = self.y # starting y coordinate is set\n",
    "    \n",
    "for r in range(90000): # for every point in array (300x300)\n",
    "    impact(scope[r], sp) # check if point is ground zero\n",
    "\n",
    "# print(sy, sx) # Test to ensure coordinates have been identified\n",
    "\n",
    "# the below values are used for determing the final plot extent.\n",
    "# here they are set to ground zero values as there has not been any spread of the colong\n",
    "maxspread_x = sx\n",
    "minspread_x = sx\n",
    "maxspread_y = sy\n",
    "minspread_y = sy"
   ]
  },
  {
   "cell_type": "code",
   "execution_count": 6,
   "id": "08c4eda7",
   "metadata": {},
   "outputs": [],
   "source": [
    "# Create Bacteria\n",
    "for r in range(Colony_Size): # For every bacterium in colony\n",
    "    bacteria.append(Bacterium(startheight, sx, sy, DensityMap)) # create a bacterium agent"
   ]
  },
  {
   "cell_type": "code",
   "execution_count": 7,
   "id": "8682fb90",
   "metadata": {},
   "outputs": [],
   "source": [
    "# Variable Warnings\n",
    "# Checks to make sure defined percentage odds do not exceed 100%\n",
    "\n",
    "#checks that wind direction percentages do not exceed 100%\n",
    "if NorthW + EastW + SouthW + WestW > 100:\n",
    "    print(\"Warning! Wind direction probabilities exceed 100%!\")\n",
    "\n",
    "#checks that turbulence percentages do not exceed 100%    \n",
    "if Rise + Fall > 100:\n",
    "    print(\"Warning! Rise and Fall probabilities exceed 100%!\")"
   ]
  },
  {
   "cell_type": "code",
   "execution_count": 8,
   "id": "f687d18d",
   "metadata": {},
   "outputs": [],
   "source": [
    "# Functions\n",
    "# Here the main model functions are defined.\n",
    "\n",
    "def wind(self, cs, N, E, S ,W, strength): # Controls Compass direction movements of agents\n",
    "    global Colony_Size\n",
    "    global lost  \n",
    "    for x in range(cs): # for each bacterium in the colony:\n",
    "        w = random.randint(1,100) # randomise the wind direction\n",
    "        if w <= N: # if the wind is travelling north\n",
    "            self[x].y += strength # move bacterium northwards distance equal to wind speed\n",
    "        else:\n",
    "            if w > N and  w <= N+E: # if the wind is travelling east\n",
    "                self[x].x += strength # move bacterium eastwards distance equal to wind speed\n",
    "            else:\n",
    "                if w > N+E and w <= N+E+S: # if the wind is travelling south\n",
    "                    self[x].y -= strength # move bacterium southwards distance equal to wind speed\n",
    "                else:\n",
    "                    if w > N+E+S and w <= N+E+S+W: # if the wind is travelling west\n",
    "                        self[x].x -= strength # move bacterium westwards distance equal to wind speed\n",
    "                        \n",
    "        if self[x].x < 1 or self[x].x > 299:  # if the bacterium is now out of bounds on the x axis:          \n",
    "            Colony_Size -= 1 # reduce colony size\n",
    "            self[x].complete == 1 # mark bacterium for removal\n",
    "            lost += 1 # increase lost counter by one\n",
    "        else: # if the bacterium has not already gone out of bounds on the x axis:\n",
    "            if self[x].y < 1 or self[x].y > 299 and self[x].complete == 0: # if the bacterium is now out of bounds on the y axis\n",
    "                Colony_Size -= 1 # reduce colony size\n",
    "                self[x].complete == 1 # mark bacterium for removal  \n",
    "                lost += 1 # increase lost counter by one\n",
    "                        \n",
    "def settle(self, cs, rise, fall, startheight): # function for determining the impact of turbulence\n",
    "    for x in range(cs): # for every bacterium\n",
    "        w = random.randint(1,100) # randomise turbulence\n",
    "        if self[x].height < startheight: # if the bacterium is below start height\n",
    "            self[x].height -= 1 # elevation drops by 1 unit\n",
    "        else: # if bacterium is at or above start height:\n",
    "            if w <= fall: #if the wind does not carry the bacterium\n",
    "                self[x].height -= 1 # elevation drops by 1 unit\n",
    "            else:\n",
    "                if w > fall and w <= rise + fall: #if the wind uplifts the bacterium\n",
    "                    self[x].height += 1 # elevation rises by 1 unit\n",
    "                    # If neither occur, the wind keeps the bacterium height constant\n",
    "\n",
    "def landing(self, cs, base): # function for adding bacterium that land to density map\n",
    "    global Colony_Size\n",
    "    global settled\n",
    "    global maxspread_x\n",
    "    global minspread_x\n",
    "    global maxspread_y\n",
    "    global minspread_y\n",
    "    for x in range(cs): # for every bacterium:\n",
    "         if self[x].height <= 0 and self[x].complete == 0: # if the agent has reached the ground and is not already processed\n",
    "            base[self[x].y][self[x].x] += 1 # mark landing on density map at agent's coordinates  \n",
    "            self[x].complete == 1 # mark agent for removal\n",
    "            settled += 1 # increase settled count by 1\n",
    "            Colony_Size -= 1 # reduce colony size by 1\n",
    "            \n",
    "            # Establish bounds for plot to avoid showing a mostly empty grid based on location of landing agents\n",
    "            if self[x].x > maxspread_x: # if agents is further away than previous furthest on the x axis east of ground zero\n",
    "                maxspread_x = self[x].x # set as new furthest east distance on the x axis\n",
    "            if self[x].x < minspread_x: # if agents is further away than previous furthest on the x axis west of ground zero\n",
    "                minspread_x = self[x].x # set as new furthest west distance on the x axis\n",
    "            if self[x].y > maxspread_y: # if agents is further away than previous furthest on the y axis north of ground zero\n",
    "                maxspread_y = self[x].y # set as new furthest north distance on the x axis\n",
    "            if self[x].y < minspread_y: # if agents is further away than previous furthest on the y axis south of ground zero\n",
    "                minspread_y = self[x].y # set as new furthest south distance on the x axis\n",
    "\n",
    "# as agents cannot be deleted within the iterating loops a seperate step is needed :               \n",
    "def removal(self, agents, cs): # copies list and removes landed bacteria\n",
    "    temp = [] # creates an empty list for temporary storage\n",
    "    for x in range(cs): # for every bacterium\n",
    "        if self[x].complete == 0: # if not marked for removal\n",
    "            temp.append(self[x]) # add to temporary list\n",
    "    agents = temp # update main list to match temporary, deleting marked agents         "
   ]
  },
  {
   "cell_type": "code",
   "execution_count": 9,
   "id": "baaf27a8",
   "metadata": {},
   "outputs": [],
   "source": [
    "# Define Model\n",
    "\n",
    "def model(self): # new function condensing previous functions for easy looping\n",
    "   #time.sleep(1) # Technically the model should run each step every second. Replaced by representative count for efficiency\n",
    "    removal(self, bacteria, Colony_Size) # remove any settled bacteria before modelling\n",
    "    wind(self, Colony_Size, NorthW, EastW, SouthW, WestW, StrengthW) # move bacteria horizontally\n",
    "    removal(self, bacteria, Colony_Size) # remove any newly out of bounds bacteria\n",
    "    settle(self, Colony_Size, Rise, Fall, startheight) # move bacteria vertically\n",
    "    landing(self, Colony_Size, DensityMap) # check if any bacteria have now landed"
   ]
  },
  {
   "cell_type": "code",
   "execution_count": 10,
   "id": "61eab126",
   "metadata": {},
   "outputs": [],
   "source": [
    "# Run Model\n",
    "\n",
    "start_time = time.time() # mark beginning of model run (for testing and output purposes)\n",
    "for runs in range(1000): # set control of max iterations\n",
    "    if Colony_Size > 0: # so long as there are active bacteria:\n",
    "        timer += 1  # increas timer by one (simulates seconds passing)\n",
    "        model(bacteria) #complete one run through of model \n",
    "end_time = time.time()# once completed mark end of model\n",
    "run_time = end_time - start_time #calculate model runtime"
   ]
  },
  {
   "cell_type": "code",
   "execution_count": 11,
   "id": "c7eb8072",
   "metadata": {},
   "outputs": [],
   "source": [
    "# Plot Extent\n",
    "\n",
    "x_extent_high = maxspread_x + 5 # add buffer east direction\n",
    "x_extent_low = minspread_x - 5 # add buffer west direction\n",
    "y_extent_high = maxspread_y + 5 # add buffer north direction\n",
    "y_extent_low = minspread_y - 5 # add buffer south direction\n",
    "\n",
    "# Ensure that plot does not extend beyond the boundaries of the density map\n",
    "if x_extent_high >= 300:\n",
    "    x_extent_high = 299\n",
    "if y_extent_high >= 300:\n",
    "    y_extent_high = 299\n",
    "if x_extent_low <= 0:\n",
    "    x_extent_low = 1\n",
    "if y_extent_low <= 0:\n",
    "    y_extent_low = 1\n",
    "\n",
    "# If no bacteria settle, show full map extent\n",
    "if settled == 0:\n",
    "    x_extent_high = 300\n",
    "    y_extent_high = 300\n",
    "    x_extent_low = 0\n",
    "    y_extent_low = 0\n",
    "    "
   ]
  },
  {
   "cell_type": "code",
   "execution_count": 12,
   "id": "23206704",
   "metadata": {},
   "outputs": [],
   "source": [
    "# save model ouput as a .txt file\n",
    "np.savetxt(\"output.txt\",DensityMap,delimiter=',');"
   ]
  },
  {
   "cell_type": "code",
   "execution_count": 13,
   "id": "12713775",
   "metadata": {},
   "outputs": [
    {
     "data": {
      "text/plain": [
       "<matplotlib.collections.PathCollection at 0x27e39d488e0>"
      ]
     },
     "execution_count": 13,
     "metadata": {},
     "output_type": "execute_result"
    },
    {
     "data": {
      "image/png": "[encoded data removed]",
      "text/plain": [
       "<Figure size 432x288 with 1 Axes>"
      ]
     },
     "metadata": {
      "needs_background": "light"
     },
     "output_type": "display_data"
    }
   ],
   "source": [
    "# Plot Density Map\n",
    "\n",
    "plt.ylim(y_extent_low, y_extent_high) # set y axis to established extent of fallout\n",
    "plt.xlim(x_extent_low, x_extent_high) # limit x axis to established extent of fallout\n",
    "plt.imshow(DensityMap, cmap='seismic') # plot density map\n",
    "plt.scatter(sx, sy, color = \"red\") # plot marker denoting ground zero as red dot\n"
   ]
  },
  {
   "cell_type": "code",
   "execution_count": 14,
   "id": "01428f7e",
   "metadata": {},
   "outputs": [
    {
     "name": "stdout",
     "output_type": "stream",
     "text": [
      "5000 bacteria settled and 0 lost from a colony of 5000 bacteria, in 80 seconds from dispersal time (real time: 0.9383981227874756 seconds)\n"
     ]
    }
   ],
   "source": [
    "# FInal statistics\n",
    "print(settled, \"bacteria settled and\", lost,  \"lost from a colony of\", settled + lost,\"bacteria, in\", timer, \"seconds from dispersal time (real time:\", run_time, \"seconds)\")"
   ]
  },
  {
   "cell_type": "code",
   "execution_count": 15,
   "id": "94c59d81",
   "metadata": {},
   "outputs": [],
   "source": [
    "stats = np.array([])"
   ]
  }
 ],
 "metadata": {
  "kernelspec": {
   "display_name": "Python 3",
   "language": "python",
   "name": "python3"
  },
  "language_info": {
   "codemirror_mode": {
    "name": "ipython",
    "version": 3
   },
   "file_extension": ".py",
   "mimetype": "text/x-python",
   "name": "python",
   "nbconvert_exporter": "python",
   "pygments_lexer": "ipython3",
   "version": "3.8.8"
  }
 },
 "nbformat": 4,
 "nbformat_minor": 5
}
